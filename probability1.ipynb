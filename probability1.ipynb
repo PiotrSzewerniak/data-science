{
  "nbformat": 4,
  "nbformat_minor": 0,
  "metadata": {
    "colab": {
      "provenance": [],
      "authorship_tag": "ABX9TyP5z+RGctNbGGbboMJRV2Wh",
      "include_colab_link": true
    },
    "kernelspec": {
      "name": "python3",
      "display_name": "Python 3"
    },
    "language_info": {
      "name": "python"
    }
  },
  "cells": [
    {
      "cell_type": "markdown",
      "metadata": {
        "id": "view-in-github",
        "colab_type": "text"
      },
      "source": [
        "<a href=\"https://colab.research.google.com/github/PiotrSzewerniak/data-science/blob/main/probability1.ipynb\" target=\"_parent\"><img src=\"https://colab.research.google.com/assets/colab-badge.svg\" alt=\"Open In Colab\"/></a>"
      ]
    },
    {
      "cell_type": "code",
      "execution_count": 1,
      "metadata": {
        "id": "mMtj53j_KW8Q"
      },
      "outputs": [],
      "source": [
        "import numpy as np"
      ]
    },
    {
      "cell_type": "code",
      "source": [
        "X = np.array([3, 4.5, 5, 4.5, 3])\n",
        "print(X)"
      ],
      "metadata": {
        "colab": {
          "base_uri": "https://localhost:8080/"
        },
        "id": "JrUcort-MDwI",
        "outputId": "56a09b30-25cb-4931-cc34-dc2ef02b6a26"
      },
      "execution_count": 2,
      "outputs": [
        {
          "output_type": "stream",
          "name": "stdout",
          "text": [
            "[3.  4.5 5.  4.5 3. ]\n"
          ]
        }
      ]
    },
    {
      "cell_type": "code",
      "source": [
        "X.mean()"
      ],
      "metadata": {
        "colab": {
          "base_uri": "https://localhost:8080/"
        },
        "id": "Zprv7NLNMI8D",
        "outputId": "eeaf2458-277c-41fb-8ec1-fef3b1706bc5"
      },
      "execution_count": 3,
      "outputs": [
        {
          "output_type": "execute_result",
          "data": {
            "text/plain": [
              "4.0"
            ]
          },
          "metadata": {},
          "execution_count": 3
        }
      ]
    },
    {
      "cell_type": "code",
      "source": [
        "np.median(X)"
      ],
      "metadata": {
        "colab": {
          "base_uri": "https://localhost:8080/"
        },
        "id": "-3HYWGGTMhCs",
        "outputId": "633b2e08-31b8-4610-d0b9-3e7ca596077c"
      },
      "execution_count": 4,
      "outputs": [
        {
          "output_type": "execute_result",
          "data": {
            "text/plain": [
              "4.5"
            ]
          },
          "metadata": {},
          "execution_count": 4
        }
      ]
    },
    {
      "cell_type": "markdown",
      "source": [
        "Mean absolute error - średni błąd bezwględny\n",
        "\n",
        "$\\frac{1}{n} \\sum_{i=1}^{n} |x_{i} - \\bar x|$"
      ],
      "metadata": {
        "id": "37qE_N-MNNmT"
      }
    },
    {
      "cell_type": "code",
      "source": [
        "X = [3.5, 4.0, 4.0]\n",
        "Y = [2.0, 4.0, 5.0]\n",
        "\n",
        "X_mean = np.mean(X)\n",
        "Y_mean = np.mean(Y)"
      ],
      "metadata": {
        "id": "NB9SCss2OMUF"
      },
      "execution_count": 5,
      "outputs": []
    },
    {
      "cell_type": "code",
      "source": [
        "b_X = 1 / len(X) * (abs(X - X_mean).sum())\n",
        "b_Y = 1 / len(Y) * (abs(Y - Y_mean).sum())\n",
        "print(b_X)\n",
        "print(b_Y)"
      ],
      "metadata": {
        "colab": {
          "base_uri": "https://localhost:8080/"
        },
        "id": "K7_Yyr2FOlTs",
        "outputId": "f1f69d32-9494-42ed-e8fb-117dc3eba6dc"
      },
      "execution_count": 13,
      "outputs": [
        {
          "output_type": "stream",
          "name": "stdout",
          "text": [
            "0.22222222222222215\n",
            "1.1111111111111112\n"
          ]
        }
      ]
    },
    {
      "cell_type": "markdown",
      "source": [
        "Variance\n",
        "\n",
        "$σ^{2} = \\frac{1}{n} \\sum_{i=1}^{n} (x_{i} - \\bar x)^{2}$"
      ],
      "metadata": {
        "id": "U72ymqN1PcRw"
      }
    },
    {
      "cell_type": "markdown",
      "source": [
        "Standard Deviation\n",
        "\n",
        "$σ = \\sqrt{\\frac{1}{n} \\sum_{i=1}^{n} (x_{i} - \\bar x)^{2}}$"
      ],
      "metadata": {
        "id": "B_QpSVC4Po0y"
      }
    },
    {
      "cell_type": "code",
      "source": [
        "print(np.std(X))\n",
        "print(np.std(Y))"
      ],
      "metadata": {
        "colab": {
          "base_uri": "https://localhost:8080/"
        },
        "id": "Clmxp8r2P9Or",
        "outputId": "17b76868-a467-4c9c-f29c-a9109231bfa9"
      },
      "execution_count": 14,
      "outputs": [
        {
          "output_type": "stream",
          "name": "stdout",
          "text": [
            "0.23570226039551584\n",
            "1.247219128924647\n"
          ]
        }
      ]
    },
    {
      "cell_type": "markdown",
      "source": [
        "Probability"
      ],
      "metadata": {
        "id": "qxKLnpAKR4s-"
      }
    },
    {
      "cell_type": "markdown",
      "source": [
        "Throwing a dice. As a result we get more than 4."
      ],
      "metadata": {
        "id": "sjbqDAMbSDJV"
      }
    },
    {
      "cell_type": "code",
      "source": [
        "omega = {1, 2, 3, 4, 5, 6}\n",
        "A = {item for item in omega if item > 4}\n",
        "\n",
        "P_A = len(A) / len(omega)\n",
        "\n",
        "print(A)\n",
        "print(P_A)"
      ],
      "metadata": {
        "colab": {
          "base_uri": "https://localhost:8080/"
        },
        "id": "S1t-T9O1SDk7",
        "outputId": "334ee1a9-21e6-4b27-e4c8-689e79256cb3"
      },
      "execution_count": 17,
      "outputs": [
        {
          "output_type": "stream",
          "name": "stdout",
          "text": [
            "{5, 6}\n",
            "0.3333333333333333\n"
          ]
        }
      ]
    },
    {
      "cell_type": "markdown",
      "source": [
        "Independence - niezależność zdarzeń"
      ],
      "metadata": {
        "id": "Y8BxRx1SSijM"
      }
    },
    {
      "cell_type": "markdown",
      "source": [
        "P(A ∩ B) = P(A) * P(B)"
      ],
      "metadata": {
        "id": "9ETTpr3ZSmVL"
      }
    },
    {
      "cell_type": "markdown",
      "source": [
        "Cumulative distribution function - dystrybuanta\n",
        "\n",
        "$F(x) = P(X \\le x)$\n",
        "\n",
        "If CDF is continous we have Probability density function\n",
        "\n",
        "$f(x) = \\frac{dF(x)}{dx} = F'(x)$\n",
        "\n",
        "$P(a < X \\le b) = \\int_{a}^{b} f(x) dx$"
      ],
      "metadata": {
        "id": "SKZHulJ8VCj3"
      }
    },
    {
      "cell_type": "markdown",
      "source": [
        "Expected value - wartość oczekiwana zmiennej losowej\n",
        "\n",
        "$E(X) = \\sum^{n}_{i=1} x_{i} * P(X = x_{i})$\n",
        "\n",
        "Variance\n",
        "\n",
        "$Var(X) = E(X - E(X))^{2} = E(X^{2}) - (E(X))^{2}$"
      ],
      "metadata": {
        "id": "7cynYhtpWaPY"
      }
    },
    {
      "cell_type": "markdown",
      "source": [
        "X | 0 | 1 | 2 | 3 |\n",
        "\n",
        "P(X) | 0.5 | 0.3 | 0.15 | 0.05|"
      ],
      "metadata": {
        "id": "C2lp8ryLXx1U"
      }
    },
    {
      "cell_type": "code",
      "source": [
        "EX = 0 * 0.5 + 1 * 0.3 + 2 * 0.15 + 3 * 0.05\n",
        "EX"
      ],
      "metadata": {
        "colab": {
          "base_uri": "https://localhost:8080/"
        },
        "id": "eKkFRlaWX80t",
        "outputId": "a29dde2d-9846-4fa2-bc6c-45a8198efc9e"
      },
      "execution_count": 19,
      "outputs": [
        {
          "output_type": "execute_result",
          "data": {
            "text/plain": [
              "0.75"
            ]
          },
          "metadata": {},
          "execution_count": 19
        }
      ]
    },
    {
      "cell_type": "code",
      "source": [
        "VAR_X = (0 - EX) **2 * 0.5 + (1 - EX) **2 * 0.3 + (2 - EX) **2 * 0.15 + (3 - EX) **2 * 0.05\n",
        "VAR_X"
      ],
      "metadata": {
        "colab": {
          "base_uri": "https://localhost:8080/"
        },
        "id": "0IANRkSRYX5p",
        "outputId": "cae71e10-95ef-498a-8e87-e95c6e87e466"
      },
      "execution_count": 20,
      "outputs": [
        {
          "output_type": "execute_result",
          "data": {
            "text/plain": [
              "0.7875000000000001"
            ]
          },
          "metadata": {},
          "execution_count": 20
        }
      ]
    },
    {
      "cell_type": "code",
      "source": [
        "STD_X = np.sqrt(VAR_X)\n",
        "STD_X"
      ],
      "metadata": {
        "colab": {
          "base_uri": "https://localhost:8080/"
        },
        "id": "N6pJYfJFYxJP",
        "outputId": "ddbdd83d-c447-4268-84e8-07170526b09e"
      },
      "execution_count": 22,
      "outputs": [
        {
          "output_type": "execute_result",
          "data": {
            "text/plain": [
              "0.8874119674649424"
            ]
          },
          "metadata": {},
          "execution_count": 22
        }
      ]
    },
    {
      "cell_type": "code",
      "source": [
        "import matplotlib.pyplot as plt\n",
        "import seaborn as sns\n",
        "from scipy.stats import norm\n",
        "sns.set()"
      ],
      "metadata": {
        "id": "9mGEZqhZZHyy"
      },
      "execution_count": 23,
      "outputs": []
    },
    {
      "cell_type": "code",
      "source": [
        "mu = 0\n",
        "sigma = 1\n",
        "x = np.linspace(mu - 3 * sigma, mu + 3 * sigma, 100)\n",
        "plt.plot(x, norm.pdf(x, mu, sigma))"
      ],
      "metadata": {
        "colab": {
          "base_uri": "https://localhost:8080/",
          "height": 451
        },
        "id": "hjhoeCUGZOkv",
        "outputId": "1b4f803f-5bd4-40ee-cae9-26b601f30121"
      },
      "execution_count": 25,
      "outputs": [
        {
          "output_type": "execute_result",
          "data": {
            "text/plain": [
              "[<matplotlib.lines.Line2D at 0x7cbfb0177d00>]"
            ]
          },
          "metadata": {},
          "execution_count": 25
        },
        {
          "output_type": "display_data",
          "data": {
            "text/plain": [
              "<Figure size 640x480 with 1 Axes>"
            ],
            "image/png": "[encoded data removed]"
          },
          "metadata": {}
        }
      ]
    },
    {
      "cell_type": "code",
      "source": [
        "x = np.linspace(mu - 3 * sigma, mu + 3 * sigma, 500)\n",
        "params = [(0, 1), (0, 2), (0, 0.5)]\n",
        "\n",
        "for mu, sigma in params:\n",
        "  plt.plot(x, norm.pdf(x, mu, sigma), label = f'mu = {mu}, sigma = {sigma}')\n",
        "plt.legend()"
      ],
      "metadata": {
        "colab": {
          "base_uri": "https://localhost:8080/",
          "height": 451
        },
        "id": "StTwYypvZWUs",
        "outputId": "d26a233d-cd8e-40b7-dc53-5233c5b00d3d"
      },
      "execution_count": 28,
      "outputs": [
        {
          "output_type": "execute_result",
          "data": {
            "text/plain": [
              "<matplotlib.legend.Legend at 0x7cbfafd848e0>"
            ]
          },
          "metadata": {},
          "execution_count": 28
        },
        {
          "output_type": "display_data",
          "data": {
            "text/plain": [
              "<Figure size 640x480 with 1 Axes>"
            ],
            "image/png": "[encoded data removed]"
          },
          "metadata": {}
        }
      ]
    },
    {
      "cell_type": "code",
      "source": [],
      "metadata": {
        "id": "qLLnDDdDaBtp"
      },
      "execution_count": null,
      "outputs": []
    }
  ]
}